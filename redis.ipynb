{
 "cells": [
  {
   "cell_type": "markdown",
   "metadata": {},
   "source": [
    "### 參考資料\n",
    "* https://medium.com/@mengchiang000/redis-cache淺談-應用-7513a9f5f2dd\n",
    "* http://tw511.com/18/146/4292.html\n",
    "* https://www.runoob.com/w3cnote/python-redis-intro.html\n",
    "* https://kknews.cc/zh-tw/code/ljx6xke.html"
   ]
  },
  {
   "cell_type": "code",
   "execution_count": 4,
   "metadata": {
    "ExecuteTime": {
     "end_time": "2021-01-27T01:50:35.193428Z",
     "start_time": "2021-01-27T01:50:35.189418Z"
    }
   },
   "outputs": [],
   "source": [
    "import redis # !pip install redis"
   ]
  },
  {
   "cell_type": "code",
   "execution_count": 5,
   "metadata": {
    "ExecuteTime": {
     "end_time": "2021-01-27T01:50:35.640152Z",
     "start_time": "2021-01-27T01:50:35.634554Z"
    }
   },
   "outputs": [],
   "source": [
    "# 讀取本地端起的 redis-server\n",
    "# redis 取出的结果默认是字节，我们可以设定 decode_responses=True 改成字符串。\n",
    "r = redis.Redis(host='127.0.0.1', port=6379, decode_responses=True)"
   ]
  },
  {
   "cell_type": "code",
   "execution_count": 6,
   "metadata": {
    "ExecuteTime": {
     "end_time": "2021-01-27T01:50:36.305488Z",
     "start_time": "2021-01-27T01:50:36.246510Z"
    }
   },
   "outputs": [
    {
     "name": "stdout",
     "output_type": "stream",
     "text": [
      "10\n"
     ]
    }
   ],
   "source": [
    "r.set('mykey', 10) #新增\n",
    "print(r.get('mykey')) #獲取"
   ]
  },
  {
   "cell_type": "code",
   "execution_count": 7,
   "metadata": {
    "ExecuteTime": {
     "end_time": "2021-01-27T01:50:37.003398Z",
     "start_time": "2021-01-27T01:50:36.988847Z"
    }
   },
   "outputs": [
    {
     "data": {
      "text/plain": [
       "True"
      ]
     },
     "execution_count": 7,
     "metadata": {},
     "output_type": "execute_result"
    }
   ],
   "source": [
    "r.set('tmp', 1234, ex=3) # key是\"tmp\" value是1234。將鍵值存入緩存, ex 可以設定過期的時間(秒)"
   ]
  },
  {
   "cell_type": "code",
   "execution_count": 9,
   "metadata": {
    "ExecuteTime": {
     "end_time": "2021-01-27T01:50:41.390787Z",
     "start_time": "2021-01-27T01:50:41.379088Z"
    }
   },
   "outputs": [
    {
     "name": "stdout",
     "output_type": "stream",
     "text": [
      "None\n"
     ]
    }
   ],
   "source": [
    "print(r.get('tmp'))  # tmp=3 這個值過3秒就會不見"
   ]
  },
  {
   "cell_type": "markdown",
   "metadata": {},
   "source": [
    "* 計算雜湊值"
   ]
  },
  {
   "cell_type": "code",
   "execution_count": 10,
   "metadata": {
    "ExecuteTime": {
     "end_time": "2021-01-28T06:39:02.089671Z",
     "start_time": "2021-01-28T06:39:02.071704Z"
    }
   },
   "outputs": [
    {
     "name": "stdout",
     "output_type": "stream",
     "text": [
      "6871bb74e606dc7b4988b643e4870a8d\n"
     ]
    }
   ],
   "source": [
    "#!/usr/bin/python3\n",
    "import hashlib\n",
    "m = hashlib.md5()\n",
    "data = \"G. T. Wang\"\n",
    "\n",
    "# 先將資料編碼，再更新 MD5 雜湊值\n",
    "m.update(data.encode(\"utf-8\"))\n",
    "\n",
    "h = m.hexdigest()\n",
    "print(h)"
   ]
  },
  {
   "cell_type": "code",
   "execution_count": 28,
   "metadata": {
    "ExecuteTime": {
     "end_time": "2021-01-29T06:50:45.954674Z",
     "start_time": "2021-01-29T06:50:45.945216Z"
    }
   },
   "outputs": [
    {
     "name": "stdout",
     "output_type": "stream",
     "text": [
      "6 1679091c5a880faf6fb5e6087eb1b2dc\n"
     ]
    }
   ],
   "source": [
    "import random\n",
    "account = str(random.randint(1,10))\n",
    "m = hashlib.md5()\n",
    "m.update(account.encode(\"utf-8\"))\n",
    "password = m.hexdigest()\n",
    "print(account, password)"
   ]
  },
  {
   "cell_type": "markdown",
   "metadata": {},
   "source": [
    "* pymysql 連進本地資料庫"
   ]
  },
  {
   "cell_type": "code",
   "execution_count": 34,
   "metadata": {
    "ExecuteTime": {
     "end_time": "2021-01-29T07:23:28.844846Z",
     "start_time": "2021-01-29T07:23:28.821241Z"
    }
   },
   "outputs": [
    {
     "data": {
      "text/html": [
       "<div>\n",
       "<style scoped>\n",
       "    .dataframe tbody tr th:only-of-type {\n",
       "        vertical-align: middle;\n",
       "    }\n",
       "\n",
       "    .dataframe tbody tr th {\n",
       "        vertical-align: top;\n",
       "    }\n",
       "\n",
       "    .dataframe thead th {\n",
       "        text-align: right;\n",
       "    }\n",
       "</style>\n",
       "<table border=\"1\" class=\"dataframe\">\n",
       "  <thead>\n",
       "    <tr style=\"text-align: right;\">\n",
       "      <th></th>\n",
       "      <th>course</th>\n",
       "      <th>mark</th>\n",
       "      <th>name</th>\n",
       "    </tr>\n",
       "  </thead>\n",
       "  <tbody>\n",
       "    <tr>\n",
       "      <th>0</th>\n",
       "      <td>Maths</td>\n",
       "      <td>60</td>\n",
       "      <td>Roger</td>\n",
       "    </tr>\n",
       "    <tr>\n",
       "      <th>1</th>\n",
       "      <td>Maths</td>\n",
       "      <td>60</td>\n",
       "      <td>Jerry</td>\n",
       "    </tr>\n",
       "    <tr>\n",
       "      <th>2</th>\n",
       "      <td>Maths</td>\n",
       "      <td>70</td>\n",
       "      <td>Ariel</td>\n",
       "    </tr>\n",
       "    <tr>\n",
       "      <th>3</th>\n",
       "      <td>Maths</td>\n",
       "      <td>55</td>\n",
       "      <td>Tracey</td>\n",
       "    </tr>\n",
       "    <tr>\n",
       "      <th>4</th>\n",
       "      <td>Biology</td>\n",
       "      <td>60</td>\n",
       "      <td>Tracey</td>\n",
       "    </tr>\n",
       "    <tr>\n",
       "      <th>5</th>\n",
       "      <td>Biology</td>\n",
       "      <td>70</td>\n",
       "      <td>Jerry</td>\n",
       "    </tr>\n",
       "    <tr>\n",
       "      <th>6</th>\n",
       "      <td>Econ</td>\n",
       "      <td>90</td>\n",
       "      <td>Jerry</td>\n",
       "    </tr>\n",
       "    <tr>\n",
       "      <th>7</th>\n",
       "      <td>Econ</td>\n",
       "      <td>60</td>\n",
       "      <td>Ariel</td>\n",
       "    </tr>\n",
       "    <tr>\n",
       "      <th>8</th>\n",
       "      <td>123</td>\n",
       "      <td>456</td>\n",
       "      <td>789</td>\n",
       "    </tr>\n",
       "  </tbody>\n",
       "</table>\n",
       "</div>"
      ],
      "text/plain": [
       "    course  mark    name\n",
       "0    Maths    60   Roger\n",
       "1    Maths    60   Jerry\n",
       "2    Maths    70   Ariel\n",
       "3    Maths    55  Tracey\n",
       "4  Biology    60  Tracey\n",
       "5  Biology    70   Jerry\n",
       "6     Econ    90   Jerry\n",
       "7     Econ    60   Ariel\n",
       "8      123   456     789"
      ]
     },
     "execution_count": 34,
     "metadata": {},
     "output_type": "execute_result"
    }
   ],
   "source": [
    "import pymysql\n",
    "import pandas as pd\n",
    "conn = pymysql.connect(host='localhost', port=3306, user='root', passwd='', db= 'test', charset='utf8')\n",
    "cursor = conn.cursor()\n",
    "sql = f\"\"\"\n",
    "SELECT *\n",
    "FROM test.student\n",
    "\"\"\"\n",
    "df = pd.read_sql(sql, conn)\n",
    "df"
   ]
  },
  {
   "cell_type": "code",
   "execution_count": 33,
   "metadata": {
    "ExecuteTime": {
     "end_time": "2021-01-29T07:23:27.213208Z",
     "start_time": "2021-01-29T07:23:27.194913Z"
    }
   },
   "outputs": [],
   "source": [
    "sql = f\"\"\"\n",
    "INSERT INTO test.student(course, mark, name) VALUES (\"123\", \"456\", \"789\")\n",
    "\"\"\"\n",
    "cursor.execute(sql)\n",
    "conn.commit()"
   ]
  },
  {
   "cell_type": "markdown",
   "metadata": {},
   "source": [
    "***"
   ]
  },
  {
   "cell_type": "code",
   "execution_count": 49,
   "metadata": {
    "ExecuteTime": {
     "end_time": "2021-01-29T08:30:39.438630Z",
     "start_time": "2021-01-29T08:30:38.684729Z"
    }
   },
   "outputs": [
    {
     "name": "stdout",
     "output_type": "stream",
     "text": [
      "1 c4ca4238a0b923820dcc509a6f75849b\n",
      "60 072b030ba126b2f4b2374f342be9ed44\n",
      "11 6512bd43d9caa6e02c990b0a82652dca\n",
      "95 812b4ba287f5ee0bc9d43bbf5bbe87fb\n",
      "1 c4ca4238a0b923820dcc509a6f75849b\n",
      "50 c0c7c76d30bd3dcaefc96f40275bdc0a\n",
      "96 26657d5ff9020d2abefe558796b99584\n",
      "2 c81e728d9d4c2f636f067f89cc14862c\n",
      "72 32bb90e8976aab5298d5da10fe66f21d\n",
      "60 072b030ba126b2f4b2374f342be9ed44\n",
      "40 d645920e395fedad7bbbed0eca3fe2e0\n",
      "81 43ec517d68b6edd3015b3edc9a11367b\n",
      "68 a3f390d88e4c41f2747bfa2f1b5f87db\n",
      "13 c51ce410c124a10e0db5e4b97fc2af39\n",
      "59 093f65e080a295f8076b1c5722a46aa2\n",
      "48 642e92efb79421734881b53e1e1b18b6\n",
      "74 ad61ab143223efbc24c7d2583be69251\n",
      "8 c9f0f895fb98ab9159f51fd0297e236d\n",
      "37 a5bfc9e07964f8dddeb95fc584cd965d\n",
      "68 a3f390d88e4c41f2747bfa2f1b5f87db\n",
      "24 1ff1de774005f8da13f42943881c655f\n",
      "90 8613985ec49eb8f757ae6439e879bb2a\n",
      "5 e4da3b7fbbce2345d7772b0674a318d5\n",
      "88 2a38a4a9316c49e5a833517c45d31070\n",
      "49 f457c545a9ded88f18ecee47145a72c0\n",
      "72 32bb90e8976aab5298d5da10fe66f21d\n",
      "91 54229abfcfa5649e7003b83dd4755294\n",
      "29 6ea9ab1baa0efb9e19094440c317e21b\n",
      "87 c7e1249ffc03eb9ded908c236bd1996d\n",
      "84 68d30a9594728bc39aa24be94b319d21\n",
      "26 4e732ced3463d06de0ca9a15b6153677\n",
      "64 ea5d2f1c4608232e07d3aa3d998e5135\n",
      "36 19ca14e7ea6328a42e0eb13d585e4c22\n",
      "61 7f39f8317fbdb1988ef4c628eba02591\n",
      "60 072b030ba126b2f4b2374f342be9ed44\n",
      "7 8f14e45fceea167a5a36dedd4bea2543\n",
      "40 d645920e395fedad7bbbed0eca3fe2e0\n",
      "10 d3d9446802a44259755d38e6d163e820\n",
      "1 c4ca4238a0b923820dcc509a6f75849b\n",
      "33 182be0c5cdcd5072bb1864cdee4d3d6e\n",
      "13 c51ce410c124a10e0db5e4b97fc2af39\n",
      "34 e369853df766fa44e1ed0ff613f563bd\n",
      "73 d2ddea18f00665ce8623e36bd4e3c7c5\n",
      "86 93db85ed909c13838ff95ccfa94cebd9\n",
      "82 9778d5d219c5080b9a6a17bef029331c\n",
      "15 9bf31c7ff062936a96d3c8bd1f8f2ff3\n",
      "33 182be0c5cdcd5072bb1864cdee4d3d6e\n",
      "94 f4b9ec30ad9f68f89b29639786cb62ef\n",
      "51 2838023a778dfaecdc212708f721b788\n",
      "23 37693cfc748049e45d87b8c7d8b9aacd\n",
      "100 f899139df5e1059396431415e770c6dd\n",
      "4 a87ff679a2f3e71d9181a67b7542122c\n",
      "7 8f14e45fceea167a5a36dedd4bea2543\n",
      "50 c0c7c76d30bd3dcaefc96f40275bdc0a\n",
      "81 43ec517d68b6edd3015b3edc9a11367b\n",
      "24 1ff1de774005f8da13f42943881c655f\n",
      "69 14bfa6bb14875e45bba028a21ed38046\n",
      "5 e4da3b7fbbce2345d7772b0674a318d5\n",
      "32 6364d3f0f495b6ab9dcf8d3b5c6e0b01\n",
      "5 e4da3b7fbbce2345d7772b0674a318d5\n",
      "78 35f4a8d465e6e1edc05f3d8ab658c551\n",
      "32 6364d3f0f495b6ab9dcf8d3b5c6e0b01\n",
      "19 1f0e3dad99908345f7439f8ffabdffc4\n",
      "8 c9f0f895fb98ab9159f51fd0297e236d\n",
      "8 c9f0f895fb98ab9159f51fd0297e236d\n",
      "37 a5bfc9e07964f8dddeb95fc584cd965d\n",
      "54 a684eceee76fc522773286a895bc8436\n",
      "9 45c48cce2e2d7fbdea1afc51c7c6ad26\n",
      "3 eccbc87e4b5ce2fe28308fd9f2a7baf3\n",
      "53 d82c8d1619ad8176d665453cfb2e55f0\n",
      "78 35f4a8d465e6e1edc05f3d8ab658c551\n",
      "78 35f4a8d465e6e1edc05f3d8ab658c551\n",
      "17 70efdf2ec9b086079795c442636b55fb\n",
      "61 7f39f8317fbdb1988ef4c628eba02591\n",
      "14 aab3238922bcc25a6f606eb525ffdc56\n",
      "70 7cbbc409ec990f19c78c75bd1e06f215\n",
      "74 ad61ab143223efbc24c7d2583be69251\n",
      "10 d3d9446802a44259755d38e6d163e820\n",
      "84 68d30a9594728bc39aa24be94b319d21\n",
      "14 aab3238922bcc25a6f606eb525ffdc56\n",
      "60 072b030ba126b2f4b2374f342be9ed44\n",
      "51 2838023a778dfaecdc212708f721b788\n",
      "12 c20ad4d76fe97759aa27a0c99bff6710\n",
      "40 d645920e395fedad7bbbed0eca3fe2e0\n",
      "53 d82c8d1619ad8176d665453cfb2e55f0\n",
      "43 17e62166fc8586dfa4d1bc0e1742c08b\n",
      "45 6c8349cc7260ae62e3b1396831a8398f\n",
      "82 9778d5d219c5080b9a6a17bef029331c\n",
      "70 7cbbc409ec990f19c78c75bd1e06f215\n",
      "13 c51ce410c124a10e0db5e4b97fc2af39\n",
      "89 7647966b7343c29048673252e490f736\n",
      "18 6f4922f45568161a8cdf4ad2299f6d23\n",
      "78 35f4a8d465e6e1edc05f3d8ab658c551\n",
      "85 3ef815416f775098fe977004015c6193\n",
      "76 fbd7939d674997cdb4692d34de8633c4\n",
      "96 26657d5ff9020d2abefe558796b99584\n",
      "68 a3f390d88e4c41f2747bfa2f1b5f87db\n",
      "26 4e732ced3463d06de0ca9a15b6153677\n",
      "3 eccbc87e4b5ce2fe28308fd9f2a7baf3\n"
     ]
    }
   ],
   "source": [
    "r.flushdb() # 實驗一開始先清除 redis cache\n",
    "trun_cmd = f\"\"\"TRUNCATE TABLE test.tb_user\"\"\"\n",
    "cursor.execute(trun_cmd) # 實驗一開始先清除 mysql database\n",
    "conn.commit()\n",
    "\n",
    "for i in range(1,100):\n",
    "    account = str(random.randint(1,100))\n",
    "    m = hashlib.md5()\n",
    "    m.update(account.encode(\"utf-8\"))\n",
    "    password = m.hexdigest()\n",
    "    \n",
    "    # 先去 redis 找\n",
    "    pw = r.get(account)\n",
    "    if not pw:\n",
    "        # redis 找不到就先去 mysql 找\n",
    "        sql = f\"\"\"\n",
    "        SELECT password FROM test.tb_user WHERE account={account}\n",
    "        \"\"\"\n",
    "        df = pd.read_sql(sql, conn)\n",
    "        if len(df)==0:\n",
    "            # 如果 mysql 找不到，就寫一筆進去 database\n",
    "            cmd = f\"\"\"\n",
    "            INSERT INTO test.tb_user(account, password) VALUES (\"{account}\", \"{password}\")\n",
    "            \"\"\"\n",
    "            cursor.execute(cmd)\n",
    "            conn.commit()\n",
    "            # 再寫一筆進去 redis\n",
    "            r.set(account, password, ex=10000)\n",
    "        else:\n",
    "            # mysql 有找到，一樣要寫到 redis\n",
    "            r.set(account, password, ex=10000)\n",
    "    \n",
    "    \n",
    "    print(account, password)"
   ]
  },
  {
   "cell_type": "code",
   "execution_count": 50,
   "metadata": {
    "ExecuteTime": {
     "end_time": "2021-01-29T08:30:45.334138Z",
     "start_time": "2021-01-29T08:30:45.298892Z"
    }
   },
   "outputs": [],
   "source": [
    "trun_cmd = f\"\"\"TRUNCATE TABLE test.tb_user\"\"\"\n",
    "cursor.execute(trun_cmd)\n",
    "conn.commit()"
   ]
  },
  {
   "cell_type": "code",
   "execution_count": null,
   "metadata": {},
   "outputs": [],
   "source": []
  }
 ],
 "metadata": {
  "kernelspec": {
   "display_name": "Python 3",
   "language": "python",
   "name": "python3"
  },
  "language_info": {
   "codemirror_mode": {
    "name": "ipython",
    "version": 3
   },
   "file_extension": ".py",
   "mimetype": "text/x-python",
   "name": "python",
   "nbconvert_exporter": "python",
   "pygments_lexer": "ipython3",
   "version": "3.7.6"
  }
 },
 "nbformat": 4,
 "nbformat_minor": 2
}
