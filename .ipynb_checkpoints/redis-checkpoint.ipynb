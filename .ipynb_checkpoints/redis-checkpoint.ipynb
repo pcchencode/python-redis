{
 "cells": [
  {
   "cell_type": "markdown",
   "metadata": {},
   "source": [
    "### 參考資料\n",
    "* https://medium.com/@mengchiang000/redis-cache淺談-應用-7513a9f5f2dd\n",
    "* http://tw511.com/18/146/4292.html\n",
    "* https://www.runoob.com/w3cnote/python-redis-intro.html\n",
    "* https://kknews.cc/zh-tw/code/ljx6xke.html"
   ]
  },
  {
   "cell_type": "code",
   "execution_count": 4,
   "metadata": {
    "ExecuteTime": {
     "end_time": "2021-01-27T01:50:35.193428Z",
     "start_time": "2021-01-27T01:50:35.189418Z"
    }
   },
   "outputs": [],
   "source": [
    "import redis # !pip install redis"
   ]
  },
  {
   "cell_type": "code",
   "execution_count": 5,
   "metadata": {
    "ExecuteTime": {
     "end_time": "2021-01-27T01:50:35.640152Z",
     "start_time": "2021-01-27T01:50:35.634554Z"
    }
   },
   "outputs": [],
   "source": [
    "# 讀取本地端起的 redis-server\n",
    "# redis 取出的结果默认是字节，我们可以设定 decode_responses=True 改成字符串。\n",
    "r = redis.Redis(host='127.0.0.1', port=6379, decode_responses=True)"
   ]
  },
  {
   "cell_type": "code",
   "execution_count": 6,
   "metadata": {
    "ExecuteTime": {
     "end_time": "2021-01-27T01:50:36.305488Z",
     "start_time": "2021-01-27T01:50:36.246510Z"
    }
   },
   "outputs": [
    {
     "name": "stdout",
     "output_type": "stream",
     "text": [
      "10\n"
     ]
    }
   ],
   "source": [
    "r.set('mykey', 10) #新增\n",
    "print(r.get('mykey')) #獲取"
   ]
  },
  {
   "cell_type": "code",
   "execution_count": 7,
   "metadata": {
    "ExecuteTime": {
     "end_time": "2021-01-27T01:50:37.003398Z",
     "start_time": "2021-01-27T01:50:36.988847Z"
    }
   },
   "outputs": [
    {
     "data": {
      "text/plain": [
       "True"
      ]
     },
     "execution_count": 7,
     "metadata": {},
     "output_type": "execute_result"
    }
   ],
   "source": [
    "r.set('tmp', 1234, ex=3) # key是\"tmp\" value是1234。將鍵值存入緩存, ex 可以設定過期的時間(秒)"
   ]
  },
  {
   "cell_type": "code",
   "execution_count": 9,
   "metadata": {
    "ExecuteTime": {
     "end_time": "2021-01-27T01:50:41.390787Z",
     "start_time": "2021-01-27T01:50:41.379088Z"
    }
   },
   "outputs": [
    {
     "name": "stdout",
     "output_type": "stream",
     "text": [
      "None\n"
     ]
    }
   ],
   "source": [
    "print(r.get('tmp'))  # tmp=3 這個值過3秒就會不見"
   ]
  },
  {
   "cell_type": "markdown",
   "metadata": {},
   "source": [
    "* 計算雜湊值"
   ]
  },
  {
   "cell_type": "code",
   "execution_count": 10,
   "metadata": {
    "ExecuteTime": {
     "end_time": "2021-01-28T06:39:02.089671Z",
     "start_time": "2021-01-28T06:39:02.071704Z"
    }
   },
   "outputs": [
    {
     "name": "stdout",
     "output_type": "stream",
     "text": [
      "6871bb74e606dc7b4988b643e4870a8d\n"
     ]
    }
   ],
   "source": [
    "#!/usr/bin/python3\n",
    "import hashlib\n",
    "m = hashlib.md5()\n",
    "data = \"G. T. Wang\"\n",
    "\n",
    "# 先將資料編碼，再更新 MD5 雜湊值\n",
    "m.update(data.encode(\"utf-8\"))\n",
    "\n",
    "h = m.hexdigest()\n",
    "print(h)"
   ]
  },
  {
   "cell_type": "code",
   "execution_count": null,
   "metadata": {},
   "outputs": [],
   "source": []
  }
 ],
 "metadata": {
  "kernelspec": {
   "display_name": "Python 3",
   "language": "python",
   "name": "python3"
  },
  "language_info": {
   "codemirror_mode": {
    "name": "ipython",
    "version": 3
   },
   "file_extension": ".py",
   "mimetype": "text/x-python",
   "name": "python",
   "nbconvert_exporter": "python",
   "pygments_lexer": "ipython3",
   "version": "3.7.6"
  }
 },
 "nbformat": 4,
 "nbformat_minor": 2
}
